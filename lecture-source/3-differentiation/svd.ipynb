{
 "cells": [
  {
   "cell_type": "code",
   "execution_count": 107,
   "metadata": {},
   "outputs": [],
   "source": [
    "import numpy as np\n",
    "\n",
    "A = np.random.randn(10,5)\n",
    "\n",
    "U, S, V = np.linalg.svd(A, full_matrices=False)"
   ]
  },
  {
   "cell_type": "code",
   "execution_count": 142,
   "metadata": {},
   "outputs": [
    {
     "name": "stdout",
     "output_type": "stream",
     "text": [
      "epoch: 0 error: 24.439271509210702\n",
      "epoch: 100 error: 0.00030857084498882076\n",
      "epoch: 200 error: 5.223368157722497e-08\n",
      "epoch: 300 error: 6.9039267735843186e-12\n",
      "epoch: 400 error: 6.937521782191437e-16\n",
      "epoch: 500 error: 9.320974803464273e-20\n",
      "epoch: 600 error: 1.774298088957813e-23\n",
      "epoch: 700 error: 3.008113254219329e-27\n",
      "epoch: 800 error: 1.099802294742331e-29\n",
      "epoch: 900 error: 7.522730511025153e-30\n",
      "Final error: 7.247274380729169e-30\n"
     ]
    }
   ],
   "source": [
    "K=5\n",
    "Up = np.random.randn(10,K)\n",
    "Vp = np.random.randn(5,K)\n",
    "alpha=0.1\n",
    "\n",
    "for epoch in range(1000):\n",
    "    for r in range(A.shape[0]):\n",
    "        for c in range(A.shape[1]):\n",
    "            e = A[r][c] - Up[r]@Vp[c]\n",
    "            for k in range(K):\n",
    "                urk = Up[r][k] + alpha*e*Vp[c][k]\n",
    "                vck = Vp[c][k] + alpha*e*Up[r][k]\n",
    "                Up[r][k] = urk\n",
    "                Vp[c][k] = vck\n",
    "    if epoch%100 == 0:\n",
    "        print('epoch:', epoch, 'error:', ((A - Up@Vp.transpose())**2).sum())\n",
    "\n",
    "print('Final error:', ((A - Up@Vp.transpose())**2).sum())\n",
    "\n"
   ]
  },
  {
   "cell_type": "code",
   "execution_count": 143,
   "metadata": {},
   "outputs": [
    {
     "name": "stdout",
     "output_type": "stream",
     "text": [
      "[2.20231548 2.18348705 2.97982565 2.34213706 2.69968518] [1.38920807 2.19355921 1.33427376 1.42352847 0.99820064]\n",
      "[3.4836438  3.04456959 2.5842056  2.16345772 1.78844635]\n",
      "[4.78960813 3.97590316 3.33409878 3.05947443 2.69482748]\n",
      "[[-0.18245985  0.18418082  0.24778106  0.40483081  0.0912672 ]\n",
      " [ 0.66453521 -0.05733598 -0.11123814  0.09319504 -0.54435347]\n",
      " [ 0.38920569 -0.38928931 -0.13648041 -0.40378101  0.2125861 ]\n",
      " [-0.09094689 -0.39311641  0.02633289  0.19701024  0.09686905]\n",
      " [-0.49576339  0.01524406 -0.50743534 -0.20024927 -0.51418957]\n",
      " [-0.02896487 -0.14858486 -0.53135408 -0.03754665  0.22786475]\n",
      " [-0.14519012 -0.67843343  0.30159583  0.05387275 -0.02064156]\n",
      " [ 0.07969707 -0.12897956  0.04063128  0.48574855 -0.42283443]\n",
      " [ 0.22552797  0.11615255 -0.457354    0.50894822  0.38108342]\n",
      " [ 0.20108205  0.37946599  0.25553647 -0.29356911  0.00450226]]\n",
      "[[-0.44394447  0.03013626 -0.05301823 -0.08584529  0.0308439 ]\n",
      " [ 0.34476172 -0.479814   -0.14266644  0.42725288 -0.41435171]\n",
      " [ 0.58551894  0.02522044  0.08693619 -0.25393551 -0.09663541]\n",
      " [-0.17446202 -0.20997078  0.39865717 -0.0415653  -0.15064208]\n",
      " [-0.14717282 -0.2478527   0.3169213   0.71072746  0.17396594]\n",
      " [ 0.01211518 -0.22010134  0.24721006  0.06640795  0.38023893]\n",
      " [-0.06098398 -0.13154004  0.56458735 -0.10140791 -0.51772964]\n",
      " [-0.3131965  -0.50827437  0.20710653  0.41977718 -0.34277695]\n",
      " [-0.28849982 -0.39232005  0.01566633 -0.02195561  0.48469925]\n",
      " [ 0.32238701  0.42977939 -0.535631   -0.21760657 -0.00327134]]\n"
     ]
    }
   ],
   "source": [
    "un = np.sqrt((Up**2).sum(0))\n",
    "vn = np.sqrt((Vp**2).sum(0))\n",
    "Up = Up / un\n",
    "Vp = Vp / vn\n",
    "\n",
    "print(un, vn)\n",
    "Sp = un*vn\n",
    "\n",
    "print(S)\n",
    "print(np.sort(Sp)[::-1])\n",
    "\n",
    "print(U)\n",
    "print(Up)"
   ]
  },
  {
   "cell_type": "code",
   "execution_count": null,
   "metadata": {},
   "outputs": [],
   "source": []
  }
 ],
 "metadata": {
  "kernelspec": {
   "display_name": "Python 3",
   "language": "python",
   "name": "python3"
  },
  "language_info": {
   "codemirror_mode": {
    "name": "ipython",
    "version": 3
   },
   "file_extension": ".py",
   "mimetype": "text/x-python",
   "name": "python",
   "nbconvert_exporter": "python",
   "pygments_lexer": "ipython3",
   "version": "3.6.7"
  }
 },
 "nbformat": 4,
 "nbformat_minor": 2
}
